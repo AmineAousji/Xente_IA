{
 "cells": [
  {
   "cell_type": "markdown",
   "metadata": {},
   "source": [
    "## Importations de libraries"
   ]
  },
  {
   "cell_type": "code",
   "execution_count": null,
   "metadata": {},
   "outputs": [],
   "source": [
    "import pandas as pd\n",
    "from sklearn.ensemble import RandomForestRegressor\n",
    "from sklearn.model_selection import cross_val_score\n",
    "from sklearn.metrics import mean_absolute_error\n",
    "from sklearn.model_selection import train_test_split\n",
    "from sklearn.impute import SimpleImputer\n",
    "from sklearn.preprocessing import OneHotEncoder"
   ]
  },
  {
   "cell_type": "markdown",
   "metadata": {},
   "source": [
    "## Récuperations des données d'entrainement et de test"
   ]
  },
  {
   "cell_type": "code",
   "execution_count": null,
   "metadata": {},
   "outputs": [],
   "source": [
    "test_data = pd.read_csv(\"data/test.csv\")\n",
    "training_data = pd.read_csv(\"data/training.csv\")\n",
    "test_data.describe()"
   ]
  },
  {
   "attachments": {},
   "cell_type": "markdown",
   "metadata": {},
   "source": [
    "## Verification des types de données qu'on trouve sur training_data"
   ]
  },
  {
   "cell_type": "code",
   "execution_count": null,
   "metadata": {},
   "outputs": [],
   "source": [
    "# Check the columns\n",
    "training_data.columns\n",
    "\n",
    "# Drop missing values\n",
    "# training_data = training_data.dropna(axis =0)\n",
    "\n",
    "# Chosing prediction target\n",
    "y = training_data.FraudResult"
   ]
  },
  {
   "cell_type": "code",
   "execution_count": null,
   "metadata": {},
   "outputs": [],
   "source": [
    "# As we chose fraud results as target, we drop it from the training data.\n",
    "training_data.drop(['FraudResult'],axis = 1, inplace=True)\n",
    "\n",
    "training_data.head()"
   ]
  },
  {
   "cell_type": "code",
   "execution_count": null,
   "metadata": {},
   "outputs": [],
   "source": [
    "# choosing Feautures\n",
    "training_features = ['BatchId', 'AccountId','CustomerId','ProviderId','ProductId','ProductCategory','ChannelId','Value']\n",
    "\n",
    "X = training_data[training_features]\n",
    "\n",
    "X.head()"
   ]
  },
  {
   "attachments": {},
   "cell_type": "markdown",
   "metadata": {},
   "source": [
    "# Clean Data"
   ]
  },
  {
   "cell_type": "code",
   "execution_count": null,
   "metadata": {},
   "outputs": [],
   "source": [
    "id_cols = ['BatchId', 'AccountId','CustomerId','ProductId','ProviderId','ChannelId']\n",
    "for col in id_cols:\n",
    "    X[col] = X[col].apply(lambda x : x.split(\"_\")[-1])\n",
    "\n",
    "X.head()"
   ]
  },
  {
   "attachments": {},
   "cell_type": "markdown",
   "metadata": {},
   "source": [
    "# Building Model"
   ]
  },
  {
   "cell_type": "code",
   "execution_count": null,
   "metadata": {},
   "outputs": [],
   "source": [
    "train_X, val_X, train_y, val_y = train_test_split(X, y,random_state = 0)\n",
    "\n",
    "def score_dataset(train_X, val_X, train_y, val_y):\n",
    "    # Create random forest model\n",
    "    training_forest_model = RandomForestRegressor(random_state=1)\n",
    "    #fit the model\n",
    "    training_forest_model.fit(train_X, train_y)\n",
    "    #Make predictions\n",
    "    train_preds = training_forest_model.predict(val_X)\n",
    "\n",
    "    #Mean Absolute Error\n",
    "    train_error = mean_absolute_error(val_y, train_preds)\n",
    "    return train_error"
   ]
  },
  {
   "attachments": {},
   "cell_type": "markdown",
   "metadata": {},
   "source": [
    "# Imputation\n"
   ]
  },
  {
   "cell_type": "code",
   "execution_count": null,
   "metadata": {},
   "outputs": [],
   "source": [
    "cols_with_missing = [col for col in train_X.columns\n",
    "                     if train_X[col].isnull().any()]\n",
    "\n",
    "train_X_plus = train_X.copy()\n",
    "val_X_plus = val_X.copy()\n",
    "\n",
    "for col in cols_with_missing:\n",
    "    train_X_plus[col + '_was_missing'] = train_X_plus[col].isnull()\n",
    "    val_X_plus[col + '_was_missing'] = val_X_plus[col].isnull()\n",
    "\n",
    "# Imputation\n",
    "my_imputer = SimpleImputer()\n",
    "imputed_train_X_plus = pd.DataFrame(my_imputer.fit_transform(train_X_plus))\n",
    "imputed_val_X_plus = pd.DataFrame(my_imputer.transform(val_X_plus))\n",
    "\n",
    "# Imputation removed column names; put them back\n",
    "imputed_train_X_plus.columns = train_X_plus.columns\n",
    "imputed_val_X_plus.columns = val_X_plus.columns\n",
    "\n",
    "score = score_dataset(imputed_train_X_plus, imputed_val_X_plus, train_y, val_y)\n",
    "print(\"MAE from Approach 3 (An Extension to Imputation):\")\n",
    "print(score)"
   ]
  },
  {
   "attachments": {},
   "cell_type": "markdown",
   "metadata": {},
   "source": [
    "## Categorical Variables"
   ]
  },
  {
   "cell_type": "code",
   "execution_count": null,
   "metadata": {},
   "outputs": [],
   "source": [
    "OH_encoder = OneHotEncoder(handle_unknown='ignore', sparse=False)\n",
    "OH_cols_train = pd.DataFrame(OH_encoder.fit_transform(train_X[\"ProductCategory\"].values.reshape(-1,1)))\n",
    "OH_cols_valid = pd.DataFrame(OH_encoder.transform(val_X[\"ProductCategory\"].values.reshape(-1,1)))\n",
    "\n",
    "# One-hot encoding removed index; put it back\n",
    "OH_cols_train.index = train_X.index\n",
    "OH_cols_valid.index = val_X.index\n",
    "\n",
    "# Remove categorical columns (will replace with one-hot encoding)\n",
    "num_train_X = train_X.drop(\"ProductCategory\", axis=1)\n",
    "num_valid_X = val_X.drop(\"ProductCategory\", axis=1)\n",
    "\n",
    "# Add one-hot encoded columns to numerical features\n",
    "OH_train_X = pd.concat([num_train_X, OH_cols_train], axis=1)\n",
    "OH_valid_X = pd.concat([num_valid_X, OH_cols_valid], axis=1)\n",
    "\n",
    "# Ensure all columns have string type\n",
    "OH_train_X.columns = OH_train_X.columns.astype(str)\n",
    "OH_valid_X.columns = OH_valid_X.columns.astype(str)\n",
    "\n",
    "print(\"MAE from Approach 3 (One-Hot Encoding):\") \n",
    "print(score_dataset(OH_train_X, OH_valid_X, train_y, val_y))\n"
   ]
  }
 ],
 "metadata": {
  "kernelspec": {
   "display_name": "Python 3",
   "language": "python",
   "name": "python3"
  },
  "language_info": {
   "codemirror_mode": {
    "name": "ipython",
    "version": 3
   },
   "file_extension": ".py",
   "mimetype": "text/x-python",
   "name": "python",
   "nbconvert_exporter": "python",
   "pygments_lexer": "ipython3",
   "version": "3.10.2"
  },
  "orig_nbformat": 4
 },
 "nbformat": 4,
 "nbformat_minor": 2
}
